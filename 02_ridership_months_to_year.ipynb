{
 "cells": [
  {
   "cell_type": "code",
   "execution_count": 15,
   "id": "a64e04ef-3b3e-41a1-b905-8c18e9403316",
   "metadata": {},
   "outputs": [],
   "source": [
    "# ---------------------------------------------------------------------------------- #\n",
    "# Concatenate 12 months of cleaned data of 1 station into a single csv for the year  \n",
    "# --------------------------------------------------------------------------------- #\n",
    "import pandas as pd\n",
    "\n",
    "months = ['01', '02', '03', '04', '05', '06', '07', '08', '09', '10', '11', '12']\n",
    "\n",
    "\n",
    "# ------ Change the station names and ids to export csv for full year ----- #\n",
    "\n",
    "station_name = '456_61St-Woodside_2023'\n",
    "station_id = '456'\n",
    "#station_name = '609_BryantPk5Av_2023'\n",
    "#station_id = '609'\n",
    "\n",
    "year_df = pd.DataFrame()\n",
    "\n",
    "for m in months:\n",
    "    file_string = './data/2023/cleaned/' +station_id+ '/' +station_name +'_' + m + '_cleaned.csv'\n",
    "    df = pd.read_csv(file_string)\n",
    "    year_df = pd.concat([year_df, df])\n",
    "\n"
   ]
  },
  {
   "cell_type": "code",
   "execution_count": 16,
   "id": "66ad4a08-3016-437d-9726-b361cb2f6257",
   "metadata": {},
   "outputs": [],
   "source": [
    "# ------------------------------------------------ #\n",
    "# WRITE FULL YEAR TO CSV\n",
    "# ------------------------------------------------ #\n",
    "\n",
    "save_string = './data/2023/cleaned/' +station_id+ '/' +station_name +'_cleaned.csv'\n",
    "\n",
    "year_df.to_csv(save_string, index = False)"
   ]
  }
 ],
 "metadata": {
  "kernelspec": {
   "display_name": "Python 3 (ipykernel)",
   "language": "python",
   "name": "python3"
  },
  "language_info": {
   "codemirror_mode": {
    "name": "ipython",
    "version": 3
   },
   "file_extension": ".py",
   "mimetype": "text/x-python",
   "name": "python",
   "nbconvert_exporter": "python",
   "pygments_lexer": "ipython3",
   "version": "3.11.5"
  }
 },
 "nbformat": 4,
 "nbformat_minor": 5
}
